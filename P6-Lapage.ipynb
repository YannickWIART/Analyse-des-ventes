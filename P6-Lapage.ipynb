{
 "cells": [
  {
   "cell_type": "code",
   "execution_count": 1,
   "id": "0dd3f3ab",
   "metadata": {},
   "outputs": [],
   "source": [
    "import pandas as pd\n",
    "import matplotlib.pyplot as plt\n",
    "import numpy as np\n",
    "from scipy.stats import chi2_contingency\n",
    "from scipy import stats\n",
    "import warnings\n",
    "import datetime\n",
    "import datetime\n",
    "import seaborn as sns\n",
    "warnings.simplefilter(\"ignore\")"
   ]
  },
  {
   "cell_type": "markdown",
   "id": "c960964a",
   "metadata": {},
   "source": [
    "# Chargement des fichiers dans les DataFrame"
   ]
  },
  {
   "cell_type": "code",
   "execution_count": 2,
   "id": "7f2007f3",
   "metadata": {},
   "outputs": [],
   "source": [
    "df_customers = pd.read_csv(r'customers.csv')\n",
    "df_products = pd.read_csv(r'products.csv')\n",
    "df_transactions = pd.read_csv(r'transactions.csv')"
   ]
  },
  {
   "cell_type": "markdown",
   "id": "94d1e5ab",
   "metadata": {},
   "source": [
    "## 1/ Analyse des données DataFrame"
   ]
  },
  {
   "cell_type": "markdown",
   "id": "27470cd7",
   "metadata": {},
   "source": [
    "### Dataframe df_customers"
   ]
  },
  {
   "cell_type": "code",
   "execution_count": 3,
   "id": "08c3d0bf",
   "metadata": {},
   "outputs": [
    {
     "name": "stdout",
     "output_type": "stream",
     "text": [
      "Vérification des types : \n",
      "client_id    object\n",
      "sex          object\n",
      "birth         int64\n",
      "dtype: object\n",
      "Vérification des valeures manquantes : \n",
      "client_id    0\n",
      "sex          0\n",
      "birth        0\n",
      "dtype: int64\n",
      "Empty DataFrame\n",
      "Columns: [client_id, sex, birth]\n",
      "Index: []\n",
      "             birth\n",
      "count  8623.000000\n",
      "mean   1978.280877\n",
      "std      16.919535\n",
      "min    1929.000000\n",
      "25%    1966.000000\n",
      "50%    1979.000000\n",
      "75%    1992.000000\n",
      "max    2004.000000\n"
     ]
    }
   ],
   "source": [
    "#Erreur de types\n",
    "print(\"Vérification des types : \")\n",
    "print(df_customers.dtypes)\n",
    "\n",
    "#Vérification des Valeurs manquantes\n",
    "print(\"Vérification des valeures manquantes : \")\n",
    "print(df_customers.isnull().sum())\n",
    "\n",
    "#Vérification des doublons :\n",
    "doublon = df_customers.loc[df_customers[['client_id', 'sex', 'birth']].duplicated(keep=False),:]\n",
    "print(doublon)\n",
    "\n",
    "\n",
    "#Vérication outliers: \n",
    "\n",
    "print(df_customers.describe())\n"
   ]
  },
  {
   "cell_type": "markdown",
   "id": "800d2b4a",
   "metadata": {},
   "source": [
    "**Analyse :**<br>\n",
    "Nous pouvons voir que la vérification des types est bonne <br>\n",
    "Il n'y a pas de valeures manques<br>\n",
    "Il n'y a pas de doublons non plus<br>\n",
    "Il ne semble pas avoir d'ouliers<br>"
   ]
  },
  {
   "cell_type": "markdown",
   "id": "fc1df9bc",
   "metadata": {},
   "source": [
    "### Dataframe df_products"
   ]
  },
  {
   "cell_type": "code",
   "execution_count": 4,
   "id": "9406ee41",
   "metadata": {},
   "outputs": [
    {
     "name": "stdout",
     "output_type": "stream",
     "text": [
      "Vérification des types : \n",
      "id_prod     object\n",
      "price      float64\n",
      "categ        int64\n",
      "dtype: object\n",
      "Vérification des valeures manquantes : \n",
      "id_prod    0\n",
      "price      0\n",
      "categ      0\n",
      "dtype: int64\n",
      "Empty DataFrame\n",
      "Columns: [id_prod, price, categ]\n",
      "Index: []\n",
      "             price        categ\n",
      "count  3287.000000  3287.000000\n",
      "mean     21.856641     0.370246\n",
      "std      29.847908     0.615387\n",
      "min      -1.000000     0.000000\n",
      "25%       6.990000     0.000000\n",
      "50%      13.060000     0.000000\n",
      "75%      22.990000     1.000000\n",
      "max     300.000000     2.000000\n"
     ]
    }
   ],
   "source": [
    "#Erreur de types\n",
    "print(\"Vérification des types : \")\n",
    "print(df_products.dtypes)\n",
    "\n",
    "#Vérification des Valeurs manquantes\n",
    "print(\"Vérification des valeures manquantes : \")\n",
    "print(df_products.isnull().sum())\n",
    "\n",
    "#Vérification des doublons :\n",
    "doublon = df_products.loc[df_products[['id_prod', 'price', 'categ']].duplicated(keep=False),:]\n",
    "print(doublon)\n",
    "\n",
    "\n",
    "#Vérication outliers: \n",
    "\n",
    "print(df_products.describe())\n"
   ]
  },
  {
   "cell_type": "markdown",
   "id": "86100c50",
   "metadata": {},
   "source": [
    "**Analyse :**<br>\n",
    "Nous pouvons voir que la vérification des types est bonne<br>\n",
    "Il n'y a pas de valeures manques<br>\n",
    "Il n'y a pas de doublons non plus<br>\n",
    "Il ne semble pas avoir d'ouliers<br>"
   ]
  },
  {
   "cell_type": "markdown",
   "id": "df5e8d5f",
   "metadata": {},
   "source": [
    "### Dataframe df_transactions"
   ]
  },
  {
   "cell_type": "code",
   "execution_count": 5,
   "id": "4683de7b",
   "metadata": {},
   "outputs": [
    {
     "name": "stdout",
     "output_type": "stream",
     "text": [
      "Vérification des types : \n",
      "id_prod       object\n",
      "date          object\n",
      "session_id    object\n",
      "client_id     object\n",
      "dtype: object\n",
      "Vérification des valeures manquantes : \n",
      "id_prod       0\n",
      "date          0\n",
      "session_id    0\n",
      "client_id     0\n",
      "dtype: int64\n",
      "       id_prod                             date session_id client_id\n",
      "582     0_1123       2021-04-29 21:21:22.708928    s_27641    c_4459\n",
      "889     0_1335       2023-02-01 18:55:40.983876   s_335537    c_4561\n",
      "1193    0_1424       2021-03-20 05:24:33.132965     s_8842    c_4595\n",
      "1278     1_397       2022-05-17 05:45:19.203870   s_209799     c_915\n",
      "1292    0_1361       2022-04-24 20:56:36.206670   s_198937    c_1784\n",
      "...        ...                              ...        ...       ...\n",
      "677618  0_1561       2021-06-21 05:30:53.999603    s_51611    c_8596\n",
      "678160  0_2267       2021-04-01 04:30:02.545268    s_14298    c_7526\n",
      "679180     T_0  test_2021-03-01 02:30:02.237425        s_0      ct_1\n",
      "679356   1_459       2021-12-14 10:10:02.741338   s_134184     c_120\n",
      "679436   1_456       2022-03-24 06:42:14.381510   s_183690    c_4222\n",
      "\n",
      "[1852 rows x 4 columns]\n",
      "       id_prod                             date session_id client_id\n",
      "count   679532                           679532     679532    679532\n",
      "unique    3267                           679371     342316      8602\n",
      "top      1_369  test_2021-03-01 02:30:02.237413        s_0    c_1609\n",
      "freq      2252                               13        200     25488\n"
     ]
    }
   ],
   "source": [
    "#Erreur de types\n",
    "print(\"Vérification des types : \")\n",
    "print(df_transactions.dtypes)\n",
    "\n",
    "#Vérification des Valeurs manquantes\n",
    "print(\"Vérification des valeures manquantes : \")\n",
    "print(df_transactions.isnull().sum())\n",
    "\n",
    "#Vérification des doublons :\n",
    "doublon = df_transactions.loc[df_transactions[['id_prod','session_id','client_id']].duplicated(keep=False),:]\n",
    "print(doublon)\n",
    "\n",
    "\n",
    "#Vérication outliers: \n",
    "\n",
    "print(df_transactions.describe())"
   ]
  },
  {
   "cell_type": "markdown",
   "id": "ec908bb9",
   "metadata": {},
   "source": [
    "**Analyse :**<br>\n",
    "Le format de la date n'est pas bon<br>\n",
    "Il n'y a pas de valeures manques<br>\n",
    "Il y a plusieurs doublons dans la dataframe<br>\n",
    "\n",
    "Il semble y avoir une valeur de date qui n'est pas correcte avec un \"Test\"<br>"
   ]
  },
  {
   "cell_type": "code",
   "execution_count": 6,
   "id": "bfa1e1ed",
   "metadata": {},
   "outputs": [],
   "source": [
    "#On commence par supprimer les valeurs 'Test' de notre dataframe\n",
    "\n",
    "#Création d'une dataframe avec les dates qui contiennent 'test'\n",
    "test = df_transactions.loc[df_transactions['date'].str[0:4]=='test',:]\n",
    "#Suppression des dates qui contiennent 'test'\n",
    "df_transactions.drop(test.index, inplace = True)"
   ]
  },
  {
   "cell_type": "code",
   "execution_count": 7,
   "id": "c959acd6",
   "metadata": {},
   "outputs": [
    {
     "name": "stdout",
     "output_type": "stream",
     "text": [
      "Vérification des types : \n",
      "id_prod               object\n",
      "date          datetime64[ns]\n",
      "session_id            object\n",
      "client_id             object\n",
      "new_date      datetime64[ns]\n",
      "dtype: object\n"
     ]
    }
   ],
   "source": [
    "#Creation d'une nouvelle date plus 'simple'\n",
    "df_transactions['new_date'] = df_transactions['date'].str[0:10]\n",
    "#Mise au bon format de la news date\n",
    "df_transactions['new_date'] = pd.to_datetime(df_transactions['new_date'], \n",
    "                                        format='%Y-%m-%d', errors='coerce')\n",
    "#Mise au bon format 'date' des deux dates\n",
    "df_transactions['date'] = pd.to_datetime(df_transactions['date'], \n",
    "                                        format='%Y-%m-%d', errors='coerce')\n",
    "print(\"Vérification des types : \")\n",
    "print(df_transactions.dtypes)"
   ]
  },
  {
   "cell_type": "code",
   "execution_count": 8,
   "id": "e4e6e0d9",
   "metadata": {},
   "outputs": [
    {
     "data": {
      "text/html": [
       "<div>\n",
       "<style scoped>\n",
       "    .dataframe tbody tr th:only-of-type {\n",
       "        vertical-align: middle;\n",
       "    }\n",
       "\n",
       "    .dataframe tbody tr th {\n",
       "        vertical-align: top;\n",
       "    }\n",
       "\n",
       "    .dataframe thead th {\n",
       "        text-align: right;\n",
       "    }\n",
       "</style>\n",
       "<table border=\"1\" class=\"dataframe\">\n",
       "  <thead>\n",
       "    <tr style=\"text-align: right;\">\n",
       "      <th></th>\n",
       "      <th>index</th>\n",
       "      <th>id_prod</th>\n",
       "      <th>date</th>\n",
       "      <th>session_id</th>\n",
       "      <th>client_id</th>\n",
       "      <th>new_date</th>\n",
       "    </tr>\n",
       "  </thead>\n",
       "  <tbody>\n",
       "    <tr>\n",
       "      <th>0</th>\n",
       "      <td>0</td>\n",
       "      <td>0_1518</td>\n",
       "      <td>2022-05-20 13:21:29.043970</td>\n",
       "      <td>s_211425</td>\n",
       "      <td>c_103</td>\n",
       "      <td>2022-05-20</td>\n",
       "    </tr>\n",
       "    <tr>\n",
       "      <th>1</th>\n",
       "      <td>1</td>\n",
       "      <td>1_251</td>\n",
       "      <td>2022-02-02 07:55:19.149409</td>\n",
       "      <td>s_158752</td>\n",
       "      <td>c_8534</td>\n",
       "      <td>2022-02-02</td>\n",
       "    </tr>\n",
       "    <tr>\n",
       "      <th>2</th>\n",
       "      <td>2</td>\n",
       "      <td>0_1277</td>\n",
       "      <td>2022-06-18 15:44:33.155329</td>\n",
       "      <td>s_225667</td>\n",
       "      <td>c_6714</td>\n",
       "      <td>2022-06-18</td>\n",
       "    </tr>\n",
       "    <tr>\n",
       "      <th>3</th>\n",
       "      <td>3</td>\n",
       "      <td>2_209</td>\n",
       "      <td>2021-06-24 04:19:29.835891</td>\n",
       "      <td>s_52962</td>\n",
       "      <td>c_6941</td>\n",
       "      <td>2021-06-24</td>\n",
       "    </tr>\n",
       "    <tr>\n",
       "      <th>4</th>\n",
       "      <td>4</td>\n",
       "      <td>0_1509</td>\n",
       "      <td>2023-01-11 08:22:08.194479</td>\n",
       "      <td>s_325227</td>\n",
       "      <td>c_4232</td>\n",
       "      <td>2023-01-11</td>\n",
       "    </tr>\n",
       "    <tr>\n",
       "      <th>...</th>\n",
       "      <td>...</td>\n",
       "      <td>...</td>\n",
       "      <td>...</td>\n",
       "      <td>...</td>\n",
       "      <td>...</td>\n",
       "      <td>...</td>\n",
       "    </tr>\n",
       "    <tr>\n",
       "      <th>678507</th>\n",
       "      <td>679527</td>\n",
       "      <td>0_1551</td>\n",
       "      <td>2022-01-15 13:05:06.246925</td>\n",
       "      <td>s_150195</td>\n",
       "      <td>c_8489</td>\n",
       "      <td>2022-01-15</td>\n",
       "    </tr>\n",
       "    <tr>\n",
       "      <th>678508</th>\n",
       "      <td>679528</td>\n",
       "      <td>1_639</td>\n",
       "      <td>2022-03-19 16:03:23.429229</td>\n",
       "      <td>s_181434</td>\n",
       "      <td>c_4370</td>\n",
       "      <td>2022-03-19</td>\n",
       "    </tr>\n",
       "    <tr>\n",
       "      <th>678509</th>\n",
       "      <td>679529</td>\n",
       "      <td>0_1425</td>\n",
       "      <td>2022-12-20 04:33:37.584749</td>\n",
       "      <td>s_314704</td>\n",
       "      <td>c_304</td>\n",
       "      <td>2022-12-20</td>\n",
       "    </tr>\n",
       "    <tr>\n",
       "      <th>678510</th>\n",
       "      <td>679530</td>\n",
       "      <td>0_1994</td>\n",
       "      <td>2021-07-16 20:36:35.350579</td>\n",
       "      <td>s_63204</td>\n",
       "      <td>c_2227</td>\n",
       "      <td>2021-07-16</td>\n",
       "    </tr>\n",
       "    <tr>\n",
       "      <th>678511</th>\n",
       "      <td>679531</td>\n",
       "      <td>1_523</td>\n",
       "      <td>2022-09-28 01:12:01.973763</td>\n",
       "      <td>s_274568</td>\n",
       "      <td>c_3873</td>\n",
       "      <td>2022-09-28</td>\n",
       "    </tr>\n",
       "  </tbody>\n",
       "</table>\n",
       "<p>678512 rows × 6 columns</p>\n",
       "</div>"
      ],
      "text/plain": [
       "         index id_prod                       date session_id client_id  \\\n",
       "0            0  0_1518 2022-05-20 13:21:29.043970   s_211425     c_103   \n",
       "1            1   1_251 2022-02-02 07:55:19.149409   s_158752    c_8534   \n",
       "2            2  0_1277 2022-06-18 15:44:33.155329   s_225667    c_6714   \n",
       "3            3   2_209 2021-06-24 04:19:29.835891    s_52962    c_6941   \n",
       "4            4  0_1509 2023-01-11 08:22:08.194479   s_325227    c_4232   \n",
       "...        ...     ...                        ...        ...       ...   \n",
       "678507  679527  0_1551 2022-01-15 13:05:06.246925   s_150195    c_8489   \n",
       "678508  679528   1_639 2022-03-19 16:03:23.429229   s_181434    c_4370   \n",
       "678509  679529  0_1425 2022-12-20 04:33:37.584749   s_314704     c_304   \n",
       "678510  679530  0_1994 2021-07-16 20:36:35.350579    s_63204    c_2227   \n",
       "678511  679531   1_523 2022-09-28 01:12:01.973763   s_274568    c_3873   \n",
       "\n",
       "         new_date  \n",
       "0      2022-05-20  \n",
       "1      2022-02-02  \n",
       "2      2022-06-18  \n",
       "3      2021-06-24  \n",
       "4      2023-01-11  \n",
       "...           ...  \n",
       "678507 2022-01-15  \n",
       "678508 2022-03-19  \n",
       "678509 2022-12-20  \n",
       "678510 2021-07-16  \n",
       "678511 2022-09-28  \n",
       "\n",
       "[678512 rows x 6 columns]"
      ]
     },
     "execution_count": 8,
     "metadata": {},
     "output_type": "execute_result"
    }
   ],
   "source": [
    "#Création d'une dataframe avec les doublons de 'id_prod', 'session_id', 'client_id'\n",
    "doublon = df_transactions.loc[df_transactions[['id_prod', 'new_date','session_id','client_id']].duplicated(),:]\n",
    "doublon\n",
    "#Suppression de la dataframe doublon dans la dataframe transactions.\n",
    "df_transactions.drop(doublon.index, inplace = True)\n",
    "#Réindexation de la dataframe\n",
    "df_transactions = df_transactions.reset_index()\n",
    "df_transactions"
   ]
  },
  {
   "cell_type": "code",
   "execution_count": 9,
   "id": "541f1c2e",
   "metadata": {},
   "outputs": [
    {
     "name": "stdout",
     "output_type": "stream",
     "text": [
      "         index id_prod                       date session_id client_id  \\\n",
      "290656  290902  0_1579 2021-10-10 00:35:12.599474   s_102502    c_4153   \n",
      "320360  320653  0_1072 2022-02-24 00:17:43.601722   s_169886    c_6664   \n",
      "465379  465908  0_1419 2021-05-15 00:24:37.439355    s_34614    c_2997   \n",
      "518558  519198  0_1450 2022-01-12 00:13:38.964714   s_148475    c_6407   \n",
      "561528  562261   1_724 2021-09-15 23:50:35.021114    s_90517    c_6714   \n",
      "618603  619473  0_2058 2021-09-17 23:33:49.984972    s_91490    c_4804   \n",
      "661289  662257   2_185 2021-05-01 00:20:24.972589    s_28171    c_5848   \n",
      "\n",
      "         new_date  \n",
      "290656 2021-10-10  \n",
      "320360 2022-02-24  \n",
      "465379 2021-05-15  \n",
      "518558 2022-01-12  \n",
      "561528 2021-09-15  \n",
      "618603 2021-09-17  \n",
      "661289 2021-05-01  \n"
     ]
    }
   ],
   "source": [
    "#Création d'une dataframe avec les doublons de 'id_prod', 'session_id', 'client_id'\n",
    "doublon2 = df_transactions.loc[df_transactions[['id_prod','session_id','client_id']].duplicated(),:]\n",
    "print(doublon2)\n",
    "\n",
    "#Si nous enlevons la date, nous pouvons voir que nous avons des doublons. Cela est du a une reprise de session d'un client\n",
    "#après minuit. Ce sont donc bien des doublons à enlever\n",
    "\n",
    "#Suppression de la dataframe doublon dans la dataframe transactions.\n",
    "df_transactions.drop(doublon2.index, inplace = True)\n",
    "#Réindexation de la dataframe\n",
    "df_transactions = df_transactions.reset_index()\n"
   ]
  },
  {
   "cell_type": "code",
   "execution_count": 10,
   "id": "9fd11343",
   "metadata": {},
   "outputs": [
    {
     "data": {
      "text/html": [
       "<div>\n",
       "<style scoped>\n",
       "    .dataframe tbody tr th:only-of-type {\n",
       "        vertical-align: middle;\n",
       "    }\n",
       "\n",
       "    .dataframe tbody tr th {\n",
       "        vertical-align: top;\n",
       "    }\n",
       "\n",
       "    .dataframe thead th {\n",
       "        text-align: right;\n",
       "    }\n",
       "</style>\n",
       "<table border=\"1\" class=\"dataframe\">\n",
       "  <thead>\n",
       "    <tr style=\"text-align: right;\">\n",
       "      <th></th>\n",
       "      <th>id_prod</th>\n",
       "      <th>date</th>\n",
       "      <th>session_id</th>\n",
       "      <th>client_id</th>\n",
       "      <th>new_date</th>\n",
       "    </tr>\n",
       "  </thead>\n",
       "  <tbody>\n",
       "    <tr>\n",
       "      <th>0</th>\n",
       "      <td>0_1518</td>\n",
       "      <td>2022-05-20 13:21:29.043970</td>\n",
       "      <td>s_211425</td>\n",
       "      <td>c_103</td>\n",
       "      <td>2022-05-20</td>\n",
       "    </tr>\n",
       "    <tr>\n",
       "      <th>1</th>\n",
       "      <td>1_251</td>\n",
       "      <td>2022-02-02 07:55:19.149409</td>\n",
       "      <td>s_158752</td>\n",
       "      <td>c_8534</td>\n",
       "      <td>2022-02-02</td>\n",
       "    </tr>\n",
       "    <tr>\n",
       "      <th>2</th>\n",
       "      <td>0_1277</td>\n",
       "      <td>2022-06-18 15:44:33.155329</td>\n",
       "      <td>s_225667</td>\n",
       "      <td>c_6714</td>\n",
       "      <td>2022-06-18</td>\n",
       "    </tr>\n",
       "    <tr>\n",
       "      <th>3</th>\n",
       "      <td>2_209</td>\n",
       "      <td>2021-06-24 04:19:29.835891</td>\n",
       "      <td>s_52962</td>\n",
       "      <td>c_6941</td>\n",
       "      <td>2021-06-24</td>\n",
       "    </tr>\n",
       "    <tr>\n",
       "      <th>4</th>\n",
       "      <td>0_1509</td>\n",
       "      <td>2023-01-11 08:22:08.194479</td>\n",
       "      <td>s_325227</td>\n",
       "      <td>c_4232</td>\n",
       "      <td>2023-01-11</td>\n",
       "    </tr>\n",
       "    <tr>\n",
       "      <th>...</th>\n",
       "      <td>...</td>\n",
       "      <td>...</td>\n",
       "      <td>...</td>\n",
       "      <td>...</td>\n",
       "      <td>...</td>\n",
       "    </tr>\n",
       "    <tr>\n",
       "      <th>678500</th>\n",
       "      <td>0_1551</td>\n",
       "      <td>2022-01-15 13:05:06.246925</td>\n",
       "      <td>s_150195</td>\n",
       "      <td>c_8489</td>\n",
       "      <td>2022-01-15</td>\n",
       "    </tr>\n",
       "    <tr>\n",
       "      <th>678501</th>\n",
       "      <td>1_639</td>\n",
       "      <td>2022-03-19 16:03:23.429229</td>\n",
       "      <td>s_181434</td>\n",
       "      <td>c_4370</td>\n",
       "      <td>2022-03-19</td>\n",
       "    </tr>\n",
       "    <tr>\n",
       "      <th>678502</th>\n",
       "      <td>0_1425</td>\n",
       "      <td>2022-12-20 04:33:37.584749</td>\n",
       "      <td>s_314704</td>\n",
       "      <td>c_304</td>\n",
       "      <td>2022-12-20</td>\n",
       "    </tr>\n",
       "    <tr>\n",
       "      <th>678503</th>\n",
       "      <td>0_1994</td>\n",
       "      <td>2021-07-16 20:36:35.350579</td>\n",
       "      <td>s_63204</td>\n",
       "      <td>c_2227</td>\n",
       "      <td>2021-07-16</td>\n",
       "    </tr>\n",
       "    <tr>\n",
       "      <th>678504</th>\n",
       "      <td>1_523</td>\n",
       "      <td>2022-09-28 01:12:01.973763</td>\n",
       "      <td>s_274568</td>\n",
       "      <td>c_3873</td>\n",
       "      <td>2022-09-28</td>\n",
       "    </tr>\n",
       "  </tbody>\n",
       "</table>\n",
       "<p>678505 rows × 5 columns</p>\n",
       "</div>"
      ],
      "text/plain": [
       "       id_prod                       date session_id client_id   new_date\n",
       "0       0_1518 2022-05-20 13:21:29.043970   s_211425     c_103 2022-05-20\n",
       "1        1_251 2022-02-02 07:55:19.149409   s_158752    c_8534 2022-02-02\n",
       "2       0_1277 2022-06-18 15:44:33.155329   s_225667    c_6714 2022-06-18\n",
       "3        2_209 2021-06-24 04:19:29.835891    s_52962    c_6941 2021-06-24\n",
       "4       0_1509 2023-01-11 08:22:08.194479   s_325227    c_4232 2023-01-11\n",
       "...        ...                        ...        ...       ...        ...\n",
       "678500  0_1551 2022-01-15 13:05:06.246925   s_150195    c_8489 2022-01-15\n",
       "678501   1_639 2022-03-19 16:03:23.429229   s_181434    c_4370 2022-03-19\n",
       "678502  0_1425 2022-12-20 04:33:37.584749   s_314704     c_304 2022-12-20\n",
       "678503  0_1994 2021-07-16 20:36:35.350579    s_63204    c_2227 2021-07-16\n",
       "678504   1_523 2022-09-28 01:12:01.973763   s_274568    c_3873 2022-09-28\n",
       "\n",
       "[678505 rows x 5 columns]"
      ]
     },
     "execution_count": 10,
     "metadata": {},
     "output_type": "execute_result"
    }
   ],
   "source": [
    "df_transactions = df_transactions.drop(columns =['level_0','index'], axis = 1)\n",
    "df_transactions.reset_index()\n",
    "df_transactions"
   ]
  },
  {
   "cell_type": "markdown",
   "id": "6abebe66",
   "metadata": {},
   "source": [
    "## Liaison des trois tables et vérification"
   ]
  },
  {
   "cell_type": "code",
   "execution_count": 11,
   "id": "0aadc3e4",
   "metadata": {},
   "outputs": [
    {
     "data": {
      "text/html": [
       "<div>\n",
       "<style scoped>\n",
       "    .dataframe tbody tr th:only-of-type {\n",
       "        vertical-align: middle;\n",
       "    }\n",
       "\n",
       "    .dataframe tbody tr th {\n",
       "        vertical-align: top;\n",
       "    }\n",
       "\n",
       "    .dataframe thead th {\n",
       "        text-align: right;\n",
       "    }\n",
       "</style>\n",
       "<table border=\"1\" class=\"dataframe\">\n",
       "  <thead>\n",
       "    <tr style=\"text-align: right;\">\n",
       "      <th></th>\n",
       "      <th>id_prod</th>\n",
       "      <th>date</th>\n",
       "      <th>session_id</th>\n",
       "      <th>client_id</th>\n",
       "      <th>new_date</th>\n",
       "      <th>price</th>\n",
       "      <th>categ</th>\n",
       "      <th>sex</th>\n",
       "      <th>birth</th>\n",
       "    </tr>\n",
       "  </thead>\n",
       "  <tbody>\n",
       "    <tr>\n",
       "      <th>0</th>\n",
       "      <td>0_1518</td>\n",
       "      <td>2022-05-20 13:21:29.043970</td>\n",
       "      <td>s_211425</td>\n",
       "      <td>c_103</td>\n",
       "      <td>2022-05-20</td>\n",
       "      <td>4.18</td>\n",
       "      <td>0.0</td>\n",
       "      <td>f</td>\n",
       "      <td>1986</td>\n",
       "    </tr>\n",
       "    <tr>\n",
       "      <th>1</th>\n",
       "      <td>1_251</td>\n",
       "      <td>2022-02-02 07:55:19.149409</td>\n",
       "      <td>s_158752</td>\n",
       "      <td>c_8534</td>\n",
       "      <td>2022-02-02</td>\n",
       "      <td>15.99</td>\n",
       "      <td>1.0</td>\n",
       "      <td>m</td>\n",
       "      <td>1988</td>\n",
       "    </tr>\n",
       "    <tr>\n",
       "      <th>2</th>\n",
       "      <td>0_1277</td>\n",
       "      <td>2022-06-18 15:44:33.155329</td>\n",
       "      <td>s_225667</td>\n",
       "      <td>c_6714</td>\n",
       "      <td>2022-06-18</td>\n",
       "      <td>7.99</td>\n",
       "      <td>0.0</td>\n",
       "      <td>f</td>\n",
       "      <td>1968</td>\n",
       "    </tr>\n",
       "    <tr>\n",
       "      <th>3</th>\n",
       "      <td>2_209</td>\n",
       "      <td>2021-06-24 04:19:29.835891</td>\n",
       "      <td>s_52962</td>\n",
       "      <td>c_6941</td>\n",
       "      <td>2021-06-24</td>\n",
       "      <td>69.99</td>\n",
       "      <td>2.0</td>\n",
       "      <td>m</td>\n",
       "      <td>2000</td>\n",
       "    </tr>\n",
       "    <tr>\n",
       "      <th>4</th>\n",
       "      <td>0_1509</td>\n",
       "      <td>2023-01-11 08:22:08.194479</td>\n",
       "      <td>s_325227</td>\n",
       "      <td>c_4232</td>\n",
       "      <td>2023-01-11</td>\n",
       "      <td>4.99</td>\n",
       "      <td>0.0</td>\n",
       "      <td>m</td>\n",
       "      <td>1980</td>\n",
       "    </tr>\n",
       "    <tr>\n",
       "      <th>...</th>\n",
       "      <td>...</td>\n",
       "      <td>...</td>\n",
       "      <td>...</td>\n",
       "      <td>...</td>\n",
       "      <td>...</td>\n",
       "      <td>...</td>\n",
       "      <td>...</td>\n",
       "      <td>...</td>\n",
       "      <td>...</td>\n",
       "    </tr>\n",
       "    <tr>\n",
       "      <th>678500</th>\n",
       "      <td>0_1551</td>\n",
       "      <td>2022-01-15 13:05:06.246925</td>\n",
       "      <td>s_150195</td>\n",
       "      <td>c_8489</td>\n",
       "      <td>2022-01-15</td>\n",
       "      <td>12.99</td>\n",
       "      <td>0.0</td>\n",
       "      <td>f</td>\n",
       "      <td>1951</td>\n",
       "    </tr>\n",
       "    <tr>\n",
       "      <th>678501</th>\n",
       "      <td>1_639</td>\n",
       "      <td>2022-03-19 16:03:23.429229</td>\n",
       "      <td>s_181434</td>\n",
       "      <td>c_4370</td>\n",
       "      <td>2022-03-19</td>\n",
       "      <td>10.99</td>\n",
       "      <td>1.0</td>\n",
       "      <td>f</td>\n",
       "      <td>1977</td>\n",
       "    </tr>\n",
       "    <tr>\n",
       "      <th>678502</th>\n",
       "      <td>0_1425</td>\n",
       "      <td>2022-12-20 04:33:37.584749</td>\n",
       "      <td>s_314704</td>\n",
       "      <td>c_304</td>\n",
       "      <td>2022-12-20</td>\n",
       "      <td>12.99</td>\n",
       "      <td>0.0</td>\n",
       "      <td>f</td>\n",
       "      <td>1988</td>\n",
       "    </tr>\n",
       "    <tr>\n",
       "      <th>678503</th>\n",
       "      <td>0_1994</td>\n",
       "      <td>2021-07-16 20:36:35.350579</td>\n",
       "      <td>s_63204</td>\n",
       "      <td>c_2227</td>\n",
       "      <td>2021-07-16</td>\n",
       "      <td>4.98</td>\n",
       "      <td>0.0</td>\n",
       "      <td>m</td>\n",
       "      <td>1986</td>\n",
       "    </tr>\n",
       "    <tr>\n",
       "      <th>678504</th>\n",
       "      <td>1_523</td>\n",
       "      <td>2022-09-28 01:12:01.973763</td>\n",
       "      <td>s_274568</td>\n",
       "      <td>c_3873</td>\n",
       "      <td>2022-09-28</td>\n",
       "      <td>23.99</td>\n",
       "      <td>1.0</td>\n",
       "      <td>m</td>\n",
       "      <td>1995</td>\n",
       "    </tr>\n",
       "  </tbody>\n",
       "</table>\n",
       "<p>678505 rows × 9 columns</p>\n",
       "</div>"
      ],
      "text/plain": [
       "       id_prod                       date session_id client_id   new_date  \\\n",
       "0       0_1518 2022-05-20 13:21:29.043970   s_211425     c_103 2022-05-20   \n",
       "1        1_251 2022-02-02 07:55:19.149409   s_158752    c_8534 2022-02-02   \n",
       "2       0_1277 2022-06-18 15:44:33.155329   s_225667    c_6714 2022-06-18   \n",
       "3        2_209 2021-06-24 04:19:29.835891    s_52962    c_6941 2021-06-24   \n",
       "4       0_1509 2023-01-11 08:22:08.194479   s_325227    c_4232 2023-01-11   \n",
       "...        ...                        ...        ...       ...        ...   \n",
       "678500  0_1551 2022-01-15 13:05:06.246925   s_150195    c_8489 2022-01-15   \n",
       "678501   1_639 2022-03-19 16:03:23.429229   s_181434    c_4370 2022-03-19   \n",
       "678502  0_1425 2022-12-20 04:33:37.584749   s_314704     c_304 2022-12-20   \n",
       "678503  0_1994 2021-07-16 20:36:35.350579    s_63204    c_2227 2021-07-16   \n",
       "678504   1_523 2022-09-28 01:12:01.973763   s_274568    c_3873 2022-09-28   \n",
       "\n",
       "        price  categ sex  birth  \n",
       "0        4.18    0.0   f   1986  \n",
       "1       15.99    1.0   m   1988  \n",
       "2        7.99    0.0   f   1968  \n",
       "3       69.99    2.0   m   2000  \n",
       "4        4.99    0.0   m   1980  \n",
       "...       ...    ...  ..    ...  \n",
       "678500  12.99    0.0   f   1951  \n",
       "678501  10.99    1.0   f   1977  \n",
       "678502  12.99    0.0   f   1988  \n",
       "678503   4.98    0.0   m   1986  \n",
       "678504  23.99    1.0   m   1995  \n",
       "\n",
       "[678505 rows x 9 columns]"
      ]
     },
     "execution_count": 11,
     "metadata": {},
     "output_type": "execute_result"
    }
   ],
   "source": [
    "#Liaison de la df_transactions et df_products\n",
    "df_fusion = pd.merge(df_transactions,df_products, on=['id_prod'], how ='left')\n",
    "#Liaison de la dataframe crée juste avant et de la df_customers\n",
    "df_conso = pd.merge(df_fusion,df_customers, on=['client_id'], how ='left')\n",
    "#Nouvelle dataframe qui comporte tous les champs dont on a besoin et qui se nomme : df_conso\n",
    "df_conso"
   ]
  },
  {
   "cell_type": "code",
   "execution_count": 12,
   "id": "f7d625aa",
   "metadata": {},
   "outputs": [
    {
     "name": "stdout",
     "output_type": "stream",
     "text": [
      "Vérification des types : \n",
      "id_prod               object\n",
      "date          datetime64[ns]\n",
      "session_id            object\n",
      "client_id             object\n",
      "new_date      datetime64[ns]\n",
      "price                float64\n",
      "categ                float64\n",
      "sex                   object\n",
      "birth                  int64\n",
      "dtype: object\n",
      "Vérification des valeures manquantes : \n",
      "id_prod         0\n",
      "date            0\n",
      "session_id      0\n",
      "client_id       0\n",
      "new_date        0\n",
      "price         221\n",
      "categ         221\n",
      "sex             0\n",
      "birth           0\n",
      "dtype: int64\n",
      "Vérification des doublons : \n",
      "Empty DataFrame\n",
      "Columns: [id_prod, date, session_id, client_id, new_date, price, categ, sex, birth]\n",
      "Index: []\n",
      "               price          categ          birth\n",
      "count  678284.000000  678284.000000  678505.000000\n",
      "mean       17.450650       0.441787    1977.808538\n",
      "std        18.324117       0.594888      13.574454\n",
      "min         0.620000       0.000000    1929.000000\n",
      "25%         8.870000       0.000000    1970.000000\n",
      "50%        13.990000       0.000000    1980.000000\n",
      "75%        18.990000       1.000000    1987.000000\n",
      "max       300.000000       2.000000    2004.000000\n"
     ]
    }
   ],
   "source": [
    "#Erreur de types\n",
    "print(\"Vérification des types : \")\n",
    "print(df_conso.dtypes)\n",
    "\n",
    "#Vérification des Valeurs manquantes\n",
    "print(\"Vérification des valeures manquantes : \")\n",
    "print(df_conso.isnull().sum())\n",
    "\n",
    "#Vérification des doublons :\n",
    "doublon = df_conso.loc[df_conso[['id_prod', 'client_id', 'session_id']].duplicated(keep=False),:]\n",
    "print(\"Vérification des doublons : \")\n",
    "print(doublon)\n",
    "\n",
    "\n",
    "#Vérication outliers: \n",
    "\n",
    "print(df_conso.describe())"
   ]
  },
  {
   "cell_type": "markdown",
   "id": "984044a9",
   "metadata": {},
   "source": [
    "**Analyse :**<br>\n",
    "Nous pouvons voir qu'après fusion des diffèrentes DataFrame nous avons 221 valeurs manquantes <br>\n",
    "Et que la colonne 'catég' est devenu un 'float' au lieu d'un 'int'<br>\n",
    "Nous allons donc les enlever et changer le format de 'catég'<br>"
   ]
  },
  {
   "cell_type": "code",
   "execution_count": 13,
   "id": "b0e07d5b",
   "metadata": {},
   "outputs": [
    {
     "data": {
      "text/html": [
       "<div>\n",
       "<style scoped>\n",
       "    .dataframe tbody tr th:only-of-type {\n",
       "        vertical-align: middle;\n",
       "    }\n",
       "\n",
       "    .dataframe tbody tr th {\n",
       "        vertical-align: top;\n",
       "    }\n",
       "\n",
       "    .dataframe thead th {\n",
       "        text-align: right;\n",
       "    }\n",
       "</style>\n",
       "<table border=\"1\" class=\"dataframe\">\n",
       "  <thead>\n",
       "    <tr style=\"text-align: right;\">\n",
       "      <th></th>\n",
       "      <th>index</th>\n",
       "      <th>id_prod</th>\n",
       "      <th>date</th>\n",
       "      <th>session_id</th>\n",
       "      <th>client_id</th>\n",
       "      <th>new_date</th>\n",
       "      <th>price</th>\n",
       "      <th>categ</th>\n",
       "      <th>sex</th>\n",
       "      <th>birth</th>\n",
       "    </tr>\n",
       "  </thead>\n",
       "  <tbody>\n",
       "    <tr>\n",
       "      <th>0</th>\n",
       "      <td>0</td>\n",
       "      <td>0_1518</td>\n",
       "      <td>2022-05-20 13:21:29.043970</td>\n",
       "      <td>s_211425</td>\n",
       "      <td>c_103</td>\n",
       "      <td>2022-05-20</td>\n",
       "      <td>4.18</td>\n",
       "      <td>0.0</td>\n",
       "      <td>f</td>\n",
       "      <td>1986</td>\n",
       "    </tr>\n",
       "    <tr>\n",
       "      <th>1</th>\n",
       "      <td>1</td>\n",
       "      <td>1_251</td>\n",
       "      <td>2022-02-02 07:55:19.149409</td>\n",
       "      <td>s_158752</td>\n",
       "      <td>c_8534</td>\n",
       "      <td>2022-02-02</td>\n",
       "      <td>15.99</td>\n",
       "      <td>1.0</td>\n",
       "      <td>m</td>\n",
       "      <td>1988</td>\n",
       "    </tr>\n",
       "    <tr>\n",
       "      <th>2</th>\n",
       "      <td>2</td>\n",
       "      <td>0_1277</td>\n",
       "      <td>2022-06-18 15:44:33.155329</td>\n",
       "      <td>s_225667</td>\n",
       "      <td>c_6714</td>\n",
       "      <td>2022-06-18</td>\n",
       "      <td>7.99</td>\n",
       "      <td>0.0</td>\n",
       "      <td>f</td>\n",
       "      <td>1968</td>\n",
       "    </tr>\n",
       "    <tr>\n",
       "      <th>3</th>\n",
       "      <td>3</td>\n",
       "      <td>2_209</td>\n",
       "      <td>2021-06-24 04:19:29.835891</td>\n",
       "      <td>s_52962</td>\n",
       "      <td>c_6941</td>\n",
       "      <td>2021-06-24</td>\n",
       "      <td>69.99</td>\n",
       "      <td>2.0</td>\n",
       "      <td>m</td>\n",
       "      <td>2000</td>\n",
       "    </tr>\n",
       "    <tr>\n",
       "      <th>4</th>\n",
       "      <td>4</td>\n",
       "      <td>0_1509</td>\n",
       "      <td>2023-01-11 08:22:08.194479</td>\n",
       "      <td>s_325227</td>\n",
       "      <td>c_4232</td>\n",
       "      <td>2023-01-11</td>\n",
       "      <td>4.99</td>\n",
       "      <td>0.0</td>\n",
       "      <td>m</td>\n",
       "      <td>1980</td>\n",
       "    </tr>\n",
       "    <tr>\n",
       "      <th>...</th>\n",
       "      <td>...</td>\n",
       "      <td>...</td>\n",
       "      <td>...</td>\n",
       "      <td>...</td>\n",
       "      <td>...</td>\n",
       "      <td>...</td>\n",
       "      <td>...</td>\n",
       "      <td>...</td>\n",
       "      <td>...</td>\n",
       "      <td>...</td>\n",
       "    </tr>\n",
       "    <tr>\n",
       "      <th>678279</th>\n",
       "      <td>678500</td>\n",
       "      <td>0_1551</td>\n",
       "      <td>2022-01-15 13:05:06.246925</td>\n",
       "      <td>s_150195</td>\n",
       "      <td>c_8489</td>\n",
       "      <td>2022-01-15</td>\n",
       "      <td>12.99</td>\n",
       "      <td>0.0</td>\n",
       "      <td>f</td>\n",
       "      <td>1951</td>\n",
       "    </tr>\n",
       "    <tr>\n",
       "      <th>678280</th>\n",
       "      <td>678501</td>\n",
       "      <td>1_639</td>\n",
       "      <td>2022-03-19 16:03:23.429229</td>\n",
       "      <td>s_181434</td>\n",
       "      <td>c_4370</td>\n",
       "      <td>2022-03-19</td>\n",
       "      <td>10.99</td>\n",
       "      <td>1.0</td>\n",
       "      <td>f</td>\n",
       "      <td>1977</td>\n",
       "    </tr>\n",
       "    <tr>\n",
       "      <th>678281</th>\n",
       "      <td>678502</td>\n",
       "      <td>0_1425</td>\n",
       "      <td>2022-12-20 04:33:37.584749</td>\n",
       "      <td>s_314704</td>\n",
       "      <td>c_304</td>\n",
       "      <td>2022-12-20</td>\n",
       "      <td>12.99</td>\n",
       "      <td>0.0</td>\n",
       "      <td>f</td>\n",
       "      <td>1988</td>\n",
       "    </tr>\n",
       "    <tr>\n",
       "      <th>678282</th>\n",
       "      <td>678503</td>\n",
       "      <td>0_1994</td>\n",
       "      <td>2021-07-16 20:36:35.350579</td>\n",
       "      <td>s_63204</td>\n",
       "      <td>c_2227</td>\n",
       "      <td>2021-07-16</td>\n",
       "      <td>4.98</td>\n",
       "      <td>0.0</td>\n",
       "      <td>m</td>\n",
       "      <td>1986</td>\n",
       "    </tr>\n",
       "    <tr>\n",
       "      <th>678283</th>\n",
       "      <td>678504</td>\n",
       "      <td>1_523</td>\n",
       "      <td>2022-09-28 01:12:01.973763</td>\n",
       "      <td>s_274568</td>\n",
       "      <td>c_3873</td>\n",
       "      <td>2022-09-28</td>\n",
       "      <td>23.99</td>\n",
       "      <td>1.0</td>\n",
       "      <td>m</td>\n",
       "      <td>1995</td>\n",
       "    </tr>\n",
       "  </tbody>\n",
       "</table>\n",
       "<p>678284 rows × 10 columns</p>\n",
       "</div>"
      ],
      "text/plain": [
       "         index id_prod                       date session_id client_id  \\\n",
       "0            0  0_1518 2022-05-20 13:21:29.043970   s_211425     c_103   \n",
       "1            1   1_251 2022-02-02 07:55:19.149409   s_158752    c_8534   \n",
       "2            2  0_1277 2022-06-18 15:44:33.155329   s_225667    c_6714   \n",
       "3            3   2_209 2021-06-24 04:19:29.835891    s_52962    c_6941   \n",
       "4            4  0_1509 2023-01-11 08:22:08.194479   s_325227    c_4232   \n",
       "...        ...     ...                        ...        ...       ...   \n",
       "678279  678500  0_1551 2022-01-15 13:05:06.246925   s_150195    c_8489   \n",
       "678280  678501   1_639 2022-03-19 16:03:23.429229   s_181434    c_4370   \n",
       "678281  678502  0_1425 2022-12-20 04:33:37.584749   s_314704     c_304   \n",
       "678282  678503  0_1994 2021-07-16 20:36:35.350579    s_63204    c_2227   \n",
       "678283  678504   1_523 2022-09-28 01:12:01.973763   s_274568    c_3873   \n",
       "\n",
       "         new_date  price  categ sex  birth  \n",
       "0      2022-05-20   4.18    0.0   f   1986  \n",
       "1      2022-02-02  15.99    1.0   m   1988  \n",
       "2      2022-06-18   7.99    0.0   f   1968  \n",
       "3      2021-06-24  69.99    2.0   m   2000  \n",
       "4      2023-01-11   4.99    0.0   m   1980  \n",
       "...           ...    ...    ...  ..    ...  \n",
       "678279 2022-01-15  12.99    0.0   f   1951  \n",
       "678280 2022-03-19  10.99    1.0   f   1977  \n",
       "678281 2022-12-20  12.99    0.0   f   1988  \n",
       "678282 2021-07-16   4.98    0.0   m   1986  \n",
       "678283 2022-09-28  23.99    1.0   m   1995  \n",
       "\n",
       "[678284 rows x 10 columns]"
      ]
     },
     "execution_count": 13,
     "metadata": {},
     "output_type": "execute_result"
    }
   ],
   "source": [
    "#Création de la dataframe avec les valeurs null qui se trouve dans la colonne 'categ'\n",
    "df_null = df_conso.loc[df_conso['categ'].isnull(),['id_prod']]\n",
    "#Suppression dans df_conso de la dataframe df_null creer juste avant.\n",
    "df_conso.drop(df_null.index, inplace = True)\n",
    "df_conso = df_conso.reset_index()\n",
    "df_conso"
   ]
  },
  {
   "cell_type": "code",
   "execution_count": 14,
   "id": "812fc9b4",
   "metadata": {},
   "outputs": [],
   "source": [
    "#Changement de format de 'catég'  qui passe d'une valeur décimal à entier\n",
    "df_conso['categ']= df_conso['categ'].astype(int)"
   ]
  },
  {
   "cell_type": "code",
   "execution_count": 15,
   "id": "7f3f252a",
   "metadata": {},
   "outputs": [
    {
     "name": "stdout",
     "output_type": "stream",
     "text": [
      "Vérification des types : \n",
      "index                  int64\n",
      "id_prod               object\n",
      "date          datetime64[ns]\n",
      "session_id            object\n",
      "client_id             object\n",
      "new_date      datetime64[ns]\n",
      "price                float64\n",
      "categ                  int32\n",
      "sex                   object\n",
      "birth                  int64\n",
      "dtype: object\n",
      "Vérification des valeures manquantes : \n",
      "index         0\n",
      "id_prod       0\n",
      "date          0\n",
      "session_id    0\n",
      "client_id     0\n",
      "new_date      0\n",
      "price         0\n",
      "categ         0\n",
      "sex           0\n",
      "birth         0\n",
      "dtype: int64\n",
      "Vérification des doublons : \n",
      "Empty DataFrame\n",
      "Columns: [index, id_prod, date, session_id, client_id, new_date, price, categ, sex, birth]\n",
      "Index: []\n",
      "               index          price          categ          birth\n",
      "count  678284.000000  678284.000000  678284.000000  678284.000000\n",
      "mean   339243.586840      17.450650       0.441787    1977.808546\n",
      "std    195866.188269      18.324117       0.594888      13.575262\n",
      "min         0.000000       0.620000       0.000000    1929.000000\n",
      "25%    169614.750000       8.870000       0.000000    1970.000000\n",
      "50%    339236.500000      13.990000       0.000000    1980.000000\n",
      "75%    508870.250000      18.990000       1.000000    1987.000000\n",
      "max    678504.000000     300.000000       2.000000    2004.000000\n"
     ]
    }
   ],
   "source": [
    "#Erreur de types\n",
    "print(\"Vérification des types : \")\n",
    "print(df_conso.dtypes)\n",
    "\n",
    "#Vérification des Valeurs manquantes\n",
    "print(\"Vérification des valeures manquantes : \")\n",
    "print(df_conso.isnull().sum())\n",
    "\n",
    "#Vérification des doublons :\n",
    "doublon = df_conso.loc[df_conso[['id_prod', 'client_id', 'session_id']].duplicated(keep=False),:]\n",
    "print(\"Vérification des doublons : \")\n",
    "print(doublon)\n",
    "\n",
    "\n",
    "#Vérication outliers: \n",
    "\n",
    "print(df_conso.describe())"
   ]
  },
  {
   "cell_type": "markdown",
   "id": "53404acb",
   "metadata": {},
   "source": [
    "**Analyse :**<br>\n",
    "Nous pouvons constater que nous n'avons plus d'anomalie dans notre dataframe conso<br>\n",
    "Nous pouvons ainsi commencer notre analyse"
   ]
  },
  {
   "cell_type": "markdown",
   "id": "6850be41",
   "metadata": {},
   "source": [
    "# 2/ Analyse du CA"
   ]
  },
  {
   "cell_type": "code",
   "execution_count": 16,
   "id": "82761939",
   "metadata": {},
   "outputs": [
    {
     "name": "stdout",
     "output_type": "stream",
     "text": [
      "Le chiffre d'affaire total est de :  11,836,496.99  €\n"
     ]
    }
   ],
   "source": [
    "#Somme des prix pour avoir le CA total\n",
    "CA = df_conso['price'].sum()\n",
    "print(\"Le chiffre d'affaire total est de : \", '{0:,}'.format(round(CA,2)) , \" €\")"
   ]
  },
  {
   "cell_type": "markdown",
   "id": "5f509fee",
   "metadata": {},
   "source": [
    "### 2.1 Analyse CA par Catégorie"
   ]
  },
  {
   "cell_type": "code",
   "execution_count": 17,
   "id": "5a58501f",
   "metadata": {},
   "outputs": [
    {
     "data": {
      "image/png": "[encoded data removed]",
      "text/plain": [
       "<Figure size 864x720 with 2 Axes>"
      ]
     },
     "metadata": {},
     "output_type": "display_data"
    },
    {
     "name": "stdout",
     "output_type": "stream",
     "text": [
      "Le nombre de client total est de :  8600  clients\n"
     ]
    }
   ],
   "source": [
    "#Calcule du nombre de clients\n",
    "nb = df_conso[['client_id']]\n",
    "nb = nb.drop_duplicates()\n",
    "nb_client = nb['client_id'].count()\n",
    "#Creation du dataframe pour l'analyse du CA (somme des catégorie)\n",
    "df_price_categ = df_conso.groupby('categ').sum()\n",
    "#Creation du dataframe pour l'analyse du CA (nombre d'occurence)\n",
    "grpby_categ1 = df_conso.groupby('categ').count()\n",
    "\n",
    "\n",
    "#Creation du graphique\n",
    "plt.figure(figsize=(12, 10))\n",
    "#Graphique 1\n",
    "plt.subplot(2,2,1)\n",
    "plt.title(\"Répartition du CA par catégorie\")\n",
    "plt.pie(df_price_categ['price'],colors = sns.color_palette('muted'),labels =['Catégorie 0','Catégorie 1','Catégorie 2'], autopct=\"%1.1f%%\")\n",
    "\n",
    "#Graphique 2\n",
    "plt.subplot(2,2,2)\n",
    "plt.title(\"Répartition du nombre d'occurence par catégorie\")\n",
    "plt.pie(grpby_categ1['price'],colors = sns.color_palette('muted'),labels =['Catégorie 0','Catégorie 1','Catégorie 2'], autopct=\"%1.1f%%\")\n",
    "\n",
    "plt.show()\n",
    "\n",
    "print(\"Le nombre de client total est de : \", nb_client, \" clients\")"
   ]
  },
  {
   "cell_type": "markdown",
   "id": "39c89a30",
   "metadata": {},
   "source": [
    "**Analyse :**<br>\n",
    "Nous pouvons voir que le chiffre d'affaire est plus repartie sur la catégorie 0 et 1 qui reprensent 76.6% du total<br>\n",
    "Nous pouvons voir également que l'on a beaucoup de commande sur la catégorie 0 mais quelle n'est pas la premiere catégorie en terme de CA\n"
   ]
  },
  {
   "cell_type": "markdown",
   "id": "d44b63b1",
   "metadata": {},
   "source": [
    "### 2.2 Analyse de la repartition des clients par sexe"
   ]
  },
  {
   "cell_type": "code",
   "execution_count": 18,
   "id": "b3b1d645",
   "metadata": {},
   "outputs": [
    {
     "data": {
      "image/png": "[encoded data removed]",
      "text/plain": [
       "<Figure size 432x288 with 1 Axes>"
      ]
     },
     "metadata": {
      "needs_background": "light"
     },
     "output_type": "display_data"
    }
   ],
   "source": [
    "df_HF = df_conso[['client_id','sex']]\n",
    "df_HF = df_HF.drop_duplicates()\n",
    "\n",
    "df_HF = df_HF.groupby('sex').count()\n",
    "df_HF['Part'] = round(df_HF['client_id']/nb_client*100,1)\n",
    "df_HF = df_HF.drop(\"client_id\", axis='columns')\n",
    "df_HF = df_HF.reset_index()\n",
    "\n",
    "x = df_HF['sex'].values\n",
    "y = df_HF['Part'].values\n",
    "\n",
    "plt.bar(x, y)\n",
    "plt.title(\"Répartition Homme / Femme\")\n",
    "for index, value in enumerate(y):\n",
    "    plt.text(index-0.05, value+0.5,str(value))\n",
    "plt.show()"
   ]
  },
  {
   "cell_type": "markdown",
   "id": "e8338bd7",
   "metadata": {},
   "source": [
    "### 2.3  Analyse du CA par sexe"
   ]
  },
  {
   "cell_type": "code",
   "execution_count": 19,
   "id": "db7ee647",
   "metadata": {},
   "outputs": [
    {
     "name": "stdout",
     "output_type": "stream",
     "text": [
      "categ       0       1      2\n",
      "sex                         \n",
      "f      205851  114759  17256\n",
      "m      209159  112132  19127\n"
     ]
    },
    {
     "data": {
      "text/plain": [
       "Text(0.5, 1.0, 'Genre Vs Catégorie')"
      ]
     },
     "execution_count": 19,
     "metadata": {},
     "output_type": "execute_result"
    },
    {
     "data": {
      "text/plain": [
       "<Figure size 432x288 with 0 Axes>"
      ]
     },
     "metadata": {},
     "output_type": "display_data"
    },
    {
     "data": {
      "image/png": "[encoded data removed]",
      "text/plain": [
       "<Figure size 432x288 with 1 Axes>"
      ]
     },
     "metadata": {
      "needs_background": "light"
     },
     "output_type": "display_data"
    }
   ],
   "source": [
    "df_sex_categ = pd.crosstab(df_conso['sex'], df_conso['categ'])\n",
    "print(df_sex_categ)\n",
    "fig = plt.figure()\n",
    "df_sex_categ.T.plot(kind='barh', ylabel='frequence', width =0.8)\n",
    "plt.xlabel(\"Chiffre d'affaire (€)\")\n",
    "plt.title('Genre Vs Catégorie')"
   ]
  },
  {
   "cell_type": "markdown",
   "id": "d2e11d2f",
   "metadata": {},
   "source": [
    "### 2.4  Analyse Chronologique du CA"
   ]
  },
  {
   "cell_type": "code",
   "execution_count": 42,
   "id": "aad656f2",
   "metadata": {},
   "outputs": [
    {
     "data": {
      "text/plain": [
       "Text(0, 0.5, \"Chiffre d'affaire (€)\")"
      ]
     },
     "execution_count": 42,
     "metadata": {},
     "output_type": "execute_result"
    },
    {
     "data": {
      "image/png": "[encoded data removed]",
      "text/plain": [
       "<Figure size 1224x576 with 1 Axes>"
      ]
     },
     "metadata": {
      "needs_background": "light"
     },
     "output_type": "display_data"
    }
   ],
   "source": [
    "df_evol = df_conso[['new_date','price']]\n",
    "df_evol = df_evol.groupby('new_date').sum()\n",
    "df_evol = df_evol.sort_values(by=['new_date'])\n",
    "df_evol = df_evol.reset_index()\n",
    "\n",
    "def mvg_vrg(i, w): #Calcule de la moyenne mobile\n",
    "    window= np.ones(int(w))/float(w)\n",
    "    return np.convolve(i, window, 'same')\n",
    "\n",
    "fig, axe = plt.subplots(figsize=(17,8))\n",
    "x= df_evol.iloc[:,0]\n",
    "y= df_evol.iloc[:,1]\n",
    "y_av = mvg_vrg(y,10)\n",
    "\n",
    "axe.plot(x, y, color='#C7A986', marker='o', label=\"Chiffre d'affaire (€)\")\n",
    "axe.plot(x, y_av,\"b\", label = \"Moyenne mobile\") #affichage de la moyenne mobile\n",
    "\n",
    "axe.set_title(\"Chiffre d'affaire journalier de Mars 2021 à Fevier 2023\")\n",
    "axe.legend()\n",
    "axe.set_xlabel(\"DATE\")\n",
    "axe.set_ylabel(\"Chiffre d'affaire (€)\")"
   ]
  },
  {
   "cell_type": "markdown",
   "id": "26eee670",
   "metadata": {},
   "source": [
    "**Analyse : ** <br>\n",
    "- Nous pouvons constater que le CA reste majoritairement compris entre 14k et 20k environ sur l'ensemble de la période\n",
    "- Sauf sur une période où l'on peut constater que le chiffre d'affaire est compris entre 8k et 10k d'octobre 2021"
   ]
  },
  {
   "cell_type": "code",
   "execution_count": 21,
   "id": "4c3beff5",
   "metadata": {},
   "outputs": [
    {
     "name": "stdout",
     "output_type": "stream",
     "text": [
      "Les top produits en CA : \n",
      "     id_prod     price\n",
      "3255   2_166  52449.12\n",
      "3256    2_39  53060.85\n",
      "3257   2_110  53846.25\n",
      "3258   1_369  53857.55\n",
      "3259   1_395  54298.27\n",
      "3260   2_209  56971.86\n",
      "3261   2_102  60618.50\n",
      "3262   2_112  64867.20\n",
      "3263   2_135  68576.06\n",
      "3264   2_159  94747.51\n",
      "Les flop produits en CA : \n",
      "  id_prod  price\n",
      "0  0_1539   0.99\n",
      "1  0_1284   1.38\n",
      "2  0_1653   1.98\n",
      "3  0_1601   1.99\n",
      "4   0_807   1.99\n",
      "5   0_541   1.99\n",
      "6  0_1728   2.27\n",
      "7  0_1498   2.48\n",
      "8   0_898   2.54\n",
      "9  0_1840   2.56\n"
     ]
    }
   ],
   "source": [
    "#Les top flop CA des produits\n",
    "\n",
    "top_flop =  df_conso[['id_prod','price']]\n",
    "top_flop = top_flop.groupby('id_prod').sum()\n",
    "top_flop = top_flop.sort_values(by=['price'])\n",
    "top_flop = top_flop.reset_index()\n",
    "\n",
    "top = top_flop.tail(10)\n",
    "flop = top_flop.head(10)\n",
    "\n",
    "print(\"Les top produits en CA : \")\n",
    "print(top)\n",
    "print(\"Les flop produits en CA : \")\n",
    "print(flop)"
   ]
  },
  {
   "cell_type": "markdown",
   "id": "0d20644a",
   "metadata": {},
   "source": [
    "### Courbe de lorenz et Z_score"
   ]
  },
  {
   "cell_type": "code",
   "execution_count": 23,
   "id": "86af41fe",
   "metadata": {},
   "outputs": [],
   "source": [
    "#Création d'une dataframe avec le CA part session (nommé df_CA)\n",
    "\n",
    "df_CA = df_conso[['session_id','price']] \n",
    "df_CA = df_CA.sort_values('session_id')\n",
    "df_CA = df_CA.groupby('session_id').sum()"
   ]
  },
  {
   "cell_type": "code",
   "execution_count": 24,
   "id": "a8ffdbe2",
   "metadata": {},
   "outputs": [
    {
     "name": "stdout",
     "output_type": "stream",
     "text": [
      "La moyenne est de :  34.58\n",
      "L'écart-type est de :  32.5\n",
      "Nombre de outliers dans la liste :  6939\n",
      "Le seuil pour qu'une valeur soit un outlier est de :  99.58\n"
     ]
    }
   ],
   "source": [
    "threshold = 2 #seuil\n",
    "mean = np.mean(df_CA.price) #Calcule de la moyenne\n",
    "print(\"La moyenne est de : \", round(mean,2))\n",
    "std = np.std(df_CA.price) #Calcule de l'ecart-type empirique\n",
    "print(\"L'écart-type est de : \", round(std,2))\n",
    "\n",
    "#Vérification si le z-score de chaque prix est au dessus du seuil et on ne garde que les résultats positifs\n",
    "z_score_outlier = [i for i in df_conso.price if (i-mean)/std > threshold]\n",
    "z_score_outlier.sort() #Tri par ordre croissant\n",
    "\n",
    "#La liste des outliers Z-score\n",
    "#print(\"La liste des outliers : \", z_score_outlier)\n",
    "#Nombre d'outliers avec le Z_score\n",
    "print(\"Nombre de outliers dans la liste : \", len(z_score_outlier))\n",
    "\n",
    "\n",
    "#Calcule du seuil de prix au-dessus duquel une donnée est un outliers avec le Z-score\n",
    "#(x-mean)/std = 2\n",
    "#x-mean = 2*std\n",
    "#x = 2*std + mean\n",
    "seuil_outliers = 2*std + mean\n",
    "print(\"Le seuil pour qu'une valeur soit un outlier est de : \", round(seuil_outliers,2))\n"
   ]
  },
  {
   "cell_type": "code",
   "execution_count": 25,
   "id": "6320534d",
   "metadata": {},
   "outputs": [
    {
     "data": {
      "image/png": "[encoded data removed]",
      "text/plain": [
       "<Figure size 720x504 with 1 Axes>"
      ]
     },
     "metadata": {
      "needs_background": "light"
     },
     "output_type": "display_data"
    }
   ],
   "source": [
    "fig = plt.figure(1, figsize = (10,7))\n",
    "depenses = df_CA[df_CA['price']<99.58]\n",
    "dep = depenses['price'].values #On selectionne exclusivement la valeur qui nous interesse ici le prix\n",
    "n = len(dep) #On compte le nombre d'élément de la serie\n",
    "lorenz = (np.cumsum(np.sort(dep)) / dep.sum())*100 # 'np.cumsum(np.sort(dep))' somme cumulée et trié de 'dep' divisé par la somme des 'dep'\n",
    "lorenz = np.append([0],lorenz) # La courbe de Lorenz commence à 0\n",
    "\n",
    "xaxis = (np.linspace(0-1/n,1+1/n,len(lorenz)))*100 #Il y a un segment de taille n pour chaque individu, plus 1 segment supplémentaire d'ordonnée 0. Le premier segment commence à 0-1/n, et le dernier termine à 1+1/n.\n",
    "plt.plot(xaxis,lorenz,drawstyle='steps-post')\n",
    "plt.plot([0,100], [0,100]) #tracer la bisséctrice\n",
    "plt.title(\"La concentration du CA\")\n",
    "plt.xlabel(\"Part cumulée de session (en %)\")\n",
    "plt.ylabel(\"Part cumulée du CA (en %)\")\n",
    "plt.show()\n",
    "\n"
   ]
  },
  {
   "cell_type": "code",
   "execution_count": 26,
   "id": "9bf625ec",
   "metadata": {},
   "outputs": [
    {
     "name": "stdout",
     "output_type": "stream",
     "text": [
      "GINI: 0.48\n"
     ]
    }
   ],
   "source": [
    "def G(v):\n",
    "    bins = np.linspace(0., 100., 54)\n",
    "    total = float(np.sum(v))\n",
    "    yvals = []\n",
    "    for b in bins:\n",
    "        bin_vals = v[v <= np.percentile(v, b)]\n",
    "        bin_fraction = (np.sum(bin_vals) / total) * 100.0\n",
    "        yvals.append(bin_fraction)\n",
    "    # Calcule de l'air pour une concentration parfaite\n",
    "    pe_area = np.trapz(bins, x=bins)\n",
    "    # Calcul de l'air sous la courbe de lorenz\n",
    "    lorenz_area = np.trapz(yvals, x=bins)\n",
    "    gini_val = (pe_area - lorenz_area) / float(pe_area) #L'aire total du triangle - l'aire en dessous de la courbe de lorenz / l'aire total\n",
    "    return bins, yvals, gini_val\n",
    "\n",
    "bins, result, gini_val = G(lorenz)\n",
    "print(\"GINI: %.2f\" %(gini_val))\n"
   ]
  },
  {
   "cell_type": "markdown",
   "id": "9c24469d",
   "metadata": {},
   "source": [
    "**Analyse :** <br>\n",
    "- La distribution est inégalitaire\n",
    "- Plus le prix augmente plus la distance entre les deux courbes augmentent\n",
    "- Plus le prix augmente moins il y a des dépenses\n",
    "- L'indice de GINI est 0.48 (indice compris en 0 (égalité parfaite) et 1 (inégalité extreme), l'inégalité est d'autant plus forte que le coefficient de GINI est élevé)"
   ]
  },
  {
   "cell_type": "code",
   "execution_count": 27,
   "id": "1be70846",
   "metadata": {},
   "outputs": [
    {
     "name": "stdout",
     "output_type": "stream",
     "text": [
      "Nombre total de client :  8600  personnes\n"
     ]
    }
   ],
   "source": [
    "nb = df_conso[['client_id']]\n",
    "nb = nb.drop_duplicates()\n",
    "nb_client = nb['client_id'].count()\n",
    "\n",
    "print(\"Nombre total de client : \",nb_client, \" personnes\")"
   ]
  },
  {
   "cell_type": "code",
   "execution_count": 28,
   "id": "3e760ab3",
   "metadata": {
    "scrolled": true
   },
   "outputs": [
    {
     "name": "stdout",
     "output_type": "stream",
     "text": [
      "Le coefficient de Skewness est de :  5.391176655135526\n",
      "Le coefficient de Kurtosis est de :  43.07426735366197\n"
     ]
    }
   ],
   "source": [
    "# Skewness empirique (Coefficient d'asymetrie par rapport à la distribution normale)\n",
    "print('Le coefficient de Skewness est de : ', df_conso['price'].skew())\n",
    "#Kurtosis empirique (Coefficient d'aplatissement par rapport à la distribution normale)\n",
    "print('Le coefficient de Kurtosis est de : ', df_conso['price'].kurtosis())"
   ]
  },
  {
   "cell_type": "markdown",
   "id": "d6ab6e2c",
   "metadata": {},
   "source": [
    "**Analyse :** <br>\n",
    "- Puisque la valeur du coefficient de Skewness est positive, nous interprétons cela comme signifiant que la distribution du prix est asymetrique à droite, ce qui signifie que la queue s'étend du côté droit de la distribution <br>\n",
    "- Puisque la valeur du coefficient de Kurtosis est élèvée, cela nous indique que la distribution est plutôt pointu"
   ]
  },
  {
   "cell_type": "markdown",
   "id": "363c5e6a",
   "metadata": {},
   "source": [
    "# TEST STATISTIQUE"
   ]
  },
  {
   "cell_type": "code",
   "execution_count": 29,
   "id": "376e71d6",
   "metadata": {},
   "outputs": [],
   "source": [
    "# Création de la variable 'Age' qui sera l'année du jour - l'année de la date d'anniversaire du client\n",
    "currentDateTime = datetime.datetime.now()\n",
    "date = currentDateTime.date()\n",
    "year = int(date.strftime(\"%Y\"))\n",
    "df_conso['age'] = year - df_conso['birth']"
   ]
  },
  {
   "cell_type": "code",
   "execution_count": 30,
   "id": "3a244b5e",
   "metadata": {},
   "outputs": [
    {
     "data": {
      "image/png": "[encoded data removed]",
      "text/plain": [
       "<Figure size 720x504 with 1 Axes>"
      ]
     },
     "metadata": {
      "needs_background": "light"
     },
     "output_type": "display_data"
    }
   ],
   "source": [
    "df_montant_age = df_conso[['client_id','age','price']]\n",
    "df_montant_age = df_montant_age.groupby(['client_id','age']).sum().reset_index()\n",
    "df_montant_age = df_montant_age.sort_values('price')\n",
    "df_montant_age = df_montant_age.loc[df_montant_age['price']<6000, :] #On enleve les outliers pour plus de visibilité\n",
    "\n",
    "x = df_montant_age['age']\n",
    "y = df_montant_age['price']\n",
    "\n",
    "\n",
    "fig = plt.figure(1, figsize = (10,7))\n",
    "plt.scatter(x , y, label = 'Montant en euros' )\n",
    "plt.title(\"Nuage de points : Montant des achats en fonction de l'âge du client\")\n",
    "plt.xlabel('age des clients')\n",
    "plt.ylabel('Montant des achats')\n",
    "plt.legend()\n",
    "plt.show()\n",
    "# regroupement avec 3 catégorie d'age \n",
    "# Nombre d'achat en fonction de l'age ou du sexe"
   ]
  },
  {
   "cell_type": "code",
   "execution_count": 31,
   "id": "db0c95e4",
   "metadata": {},
   "outputs": [
    {
     "data": {
      "image/png": "[encoded data removed]",
      "text/plain": [
       "<Figure size 720x504 with 1 Axes>"
      ]
     },
     "metadata": {
      "needs_background": "light"
     },
     "output_type": "display_data"
    }
   ],
   "source": [
    "df_moyen_age = df_conso[['client_id','age','price']]\n",
    "df_moyen_age = df_moyen_age.groupby(['age']).mean().reset_index()\n",
    "df_moyen_age = df_moyen_age.sort_values('price')\n",
    "df_moyen_age = df_moyen_age.loc[df_moyen_age['price']<6000, :] #On enleve les outliers pour plus de visibilité\n",
    "\n",
    "x = df_moyen_age['age']\n",
    "y = df_moyen_age['price']\n",
    "\n",
    "\n",
    "fig = plt.figure(1, figsize = (10,7))\n",
    "plt.scatter(x , y, label = 'Panier_moyen' )\n",
    "plt.title(\"Nuage de points : Panier moyen en fonction de l'âge du client\")\n",
    "plt.xlabel('age des clients')\n",
    "plt.ylabel('Panier moyen')\n",
    "plt.legend()\n",
    "plt.show()"
   ]
  },
  {
   "cell_type": "markdown",
   "id": "c252fd47",
   "metadata": {},
   "source": [
    "**Analyse :** <br>\n",
    "Le panier moyen pour les moins de 30 ans se situe au alentour de 40€ <br>\n",
    "Les 30-50 est de 13€. <br>\n",
    "Les plus de 50 ans ont une moyenne d'achat de 17€."
   ]
  },
  {
   "cell_type": "markdown",
   "id": "25436f6d",
   "metadata": {},
   "source": [
    "### TEST Khi2 (Corrélation entre deux variables qualitatives)"
   ]
  },
  {
   "cell_type": "markdown",
   "id": "0f4f6c82",
   "metadata": {},
   "source": [
    "#### Tableau de Contingence"
   ]
  },
  {
   "cell_type": "code",
   "execution_count": 32,
   "id": "bd082875",
   "metadata": {},
   "outputs": [
    {
     "name": "stdout",
     "output_type": "stream",
     "text": [
      "categ       0       1      2\n",
      "sex                         \n",
      "f      205851  114759  17256\n",
      "m      209159  112132  19127\n"
     ]
    }
   ],
   "source": [
    "df_sex_categ = pd.crosstab(df_conso['sex'], df_conso['categ'])\n",
    "print(df_sex_categ)"
   ]
  },
  {
   "cell_type": "code",
   "execution_count": 33,
   "id": "af78b779",
   "metadata": {
    "scrolled": true
   },
   "outputs": [
    {
     "name": "stdout",
     "output_type": "stream",
     "text": [
      "Le khi2 est de : 143.40045211735296\n",
      "Le p_value est de : 7.260850110798997e-32\n",
      "Le dd1 est de : 2\n",
      "Le effectif théorique est de : [[206724.2757606  113018.66859015  18123.05564926]\n",
      " [208285.7242394  113872.33140985  18259.94435074]]\n"
     ]
    }
   ],
   "source": [
    "Khi2_obs, p_value, dd1, effectif_theorique = chi2_contingency(df_sex_categ)\n",
    "print(\"Le khi2 est de :\", Khi2_obs)\n",
    "print(\"Le p_value est de :\", p_value)\n",
    "print(\"Le dd1 est de :\", dd1)\n",
    "print(\"Le effectif théorique est de :\", effectif_theorique)"
   ]
  },
  {
   "cell_type": "markdown",
   "id": "07f4299d",
   "metadata": {},
   "source": [
    "**INTERPRETATION :** <br>\n",
    "Dans ces résultats, la statistique du Khi deux est de 143.40 et la valeur de p = 7.260850110798997e-32. Avec un seuil de signification de 0,05, vous pouvez donc conclure que l'association entre les variables sexe et catégorie est statistiquement significative."
   ]
  },
  {
   "cell_type": "markdown",
   "id": "c590097c",
   "metadata": {},
   "source": [
    "### TEST SPEARMAN ( Corrélation entre deux variables quantitative)"
   ]
  },
  {
   "cell_type": "markdown",
   "id": "0ab15202",
   "metadata": {},
   "source": [
    "#### Pour savoir si j'utilise un test paramétrique ou non l'analyse statistique, j'utilise le test de normalité de \"Shapiro_Wilk\" "
   ]
  },
  {
   "cell_type": "markdown",
   "id": "23584b11",
   "metadata": {},
   "source": [
    "Hypothèse nulle selon laquelle un échantillon est issu d'une population normalement distribuée. "
   ]
  },
  {
   "cell_type": "code",
   "execution_count": 34,
   "id": "7b541d3b",
   "metadata": {},
   "outputs": [],
   "source": [
    "df_frequence = df_conso[['session_id','age']]\n",
    "df_frequence= df_frequence.groupby('age').count()\n",
    "x = df_frequence.index\n",
    "y = df_frequence['session_id']"
   ]
  },
  {
   "cell_type": "code",
   "execution_count": 35,
   "id": "c285f84d",
   "metadata": {},
   "outputs": [
    {
     "name": "stdout",
     "output_type": "stream",
     "text": [
      "La P_value est de :  8.640623860856067e-08  ,\n",
      "soit 0.000000086406238608560670400038 \n",
      "et le test statistic est de :  0.83382\n"
     ]
    }
   ],
   "source": [
    "stat, p_val = stats.shapiro(y)\n",
    "print('La P_value est de : ', p_val, ' ,')\n",
    "print('soit ' f'{p_val:.30f} ')\n",
    "print('et le test statistic est de : ', round(stat,5))"
   ]
  },
  {
   "cell_type": "markdown",
   "id": "77418bac",
   "metadata": {},
   "source": [
    "Comme le P_value est inférieure à un niveau alpha choisi (ici 0.05), alors l'hypothèse est rejetée.<br>\n",
    "Nous devons donc choisir un test non paramétrique pour le tester la correlation des 2 variables"
   ]
  },
  {
   "cell_type": "markdown",
   "id": "ea078c1d",
   "metadata": {},
   "source": [
    "#### J'utilise donc le test de corrélation de \"Spearman\""
   ]
  },
  {
   "cell_type": "markdown",
   "id": "adcab3da",
   "metadata": {},
   "source": [
    "HYPOTHESES : <br>\n",
    "    H0 = Il n'y a pas corrélation, la fréquence des achats ne correspond pas à l'âge du client.<br>\n",
    "    H1 = Il y a corrélation, la fréquence d'achats correspond à l'âge du client.<br>"
   ]
  },
  {
   "cell_type": "code",
   "execution_count": 36,
   "id": "50229bf7",
   "metadata": {},
   "outputs": [
    {
     "name": "stdout",
     "output_type": "stream",
     "text": [
      "La P_value est de :  1.0361187752760396e-11 ,\n",
      "soit 0.000000000010361187752760396330 \n",
      "et le coefficient de corrélation est de :  -0.68334\n"
     ]
    }
   ],
   "source": [
    "ind_corr ,p_val = stats.spearmanr(x,y)\n",
    "print('La P_value est de : ', p_val, ',')\n",
    "print('soit ' f'{p_val:.30f} ')\n",
    "print('et le coefficient de corrélation est de : ', round(ind_corr,5))"
   ]
  },
  {
   "cell_type": "markdown",
   "id": "c8e93d62",
   "metadata": {},
   "source": [
    "**Analyse :** <br>\n",
    "La P_value étant inférieure à la valeur référence de 0.05, l'hypothèse H0 est donc rejetée !<br>\n",
    "Il y a bien corrélation ! <br>\n",
    "Le coefficient de corrélation est de -0.68334 nous montre que la corrélation est forte et négative. <br>\n",
    "**Plus les clients sont agés moins ils font des achats fréquents.**"
   ]
  },
  {
   "cell_type": "markdown",
   "id": "b26340df",
   "metadata": {},
   "source": [
    "### TEST DE STUDENT (Comparaison de deux échantillons)"
   ]
  },
  {
   "cell_type": "code",
   "execution_count": 37,
   "id": "f9b8bb50",
   "metadata": {},
   "outputs": [
    {
     "name": "stdout",
     "output_type": "stream",
     "text": [
      "La P_value est de :  1.6060261917599265e-15 ,\n",
      "soit 0.0000000000000016060261917599264761651219 \n",
      "et le test statistique est de :  -8.90868\n",
      "La P_value est de :  2.341379278526571e-13 ,\n",
      "soit 0.0000000000002341379278526571098207264622 \n",
      "et le test statistique est de :  -8.89661\n"
     ]
    }
   ],
   "source": [
    "stat1, p_value1 = stats.ttest_ind(x,y)\n",
    "print('La P_value est de : ', p_value1, ',')\n",
    "print('soit ' f'{p_value1:.40f} ')\n",
    "print('et le test statistique est de : ', round(stat1,5))\n",
    "\n",
    "\n",
    "stat2, p_value2 = stats.ttest_rel(x,y) ;\n",
    "print('La P_value est de : ', p_value2, ',')\n",
    "print('soit ' f'{p_value2:.40f} ')\n",
    "print('et le test statistique est de : ', round(stat2,5))"
   ]
  },
  {
   "cell_type": "markdown",
   "id": "95078138",
   "metadata": {},
   "source": [
    "Le test de Student permet de comparer deux échantillons.\n",
    "\n",
    "Il va estimer la probabilité que la différence entre ces deux échantillons soit due au hasard (la p-value).\n",
    "\n",
    "Plus la p-value est petite, plus l'intervention du hasard est peu probable et la différence certaine. Le seuil habituel est de 0.05 mais est empirique...\n",
    "\n"
   ]
  },
  {
   "cell_type": "code",
   "execution_count": null,
   "id": "f40abd04",
   "metadata": {},
   "outputs": [],
   "source": []
  }
 ],
 "metadata": {
  "kernelspec": {
   "display_name": "Python 3 (ipykernel)",
   "language": "python",
   "name": "python3"
  },
  "language_info": {
   "codemirror_mode": {
    "name": "ipython",
    "version": 3
   },
   "file_extension": ".py",
   "mimetype": "text/x-python",
   "name": "python",
   "nbconvert_exporter": "python",
   "pygments_lexer": "ipython3",
   "version": "3.9.12"
  }
 },
 "nbformat": 4,
 "nbformat_minor": 5
}
